{
  "nbformat": 4,
  "nbformat_minor": 0,
  "metadata": {
    "colab": {
      "name": "AWS ECU spot pricing ML.ipynb",
      "provenance": [],
      "authorship_tag": "ABX9TyPIhkOG8dilo6s5+uIxjP9L",
      "include_colab_link": true
    },
    "kernelspec": {
      "name": "python3",
      "display_name": "Python 3"
    }
  },
  "cells": [
    {
      "cell_type": "markdown",
      "metadata": {
        "id": "view-in-github",
        "colab_type": "text"
      },
      "source": [
        "<a href=\"https://colab.research.google.com/github/herculeslyndel/hugo-continuous-delivery-demo/blob/master/AWS_ECU_spot_pricing_ML.ipynb\" target=\"_parent\"><img src=\"https://colab.research.google.com/assets/colab-badge.svg\" alt=\"Open In Colab\"/></a>"
      ]
    },
    {
      "cell_type": "code",
      "metadata": {
        "id": "e61Is5_D8ghE",
        "colab_type": "code",
        "colab": {
          "base_uri": "https://localhost:8080/",
          "height": 71
        },
        "outputId": "b23dc5d8-cad5-409d-c1d3-c8be95607a7f"
      },
      "source": [
        "# import core python libraries for retrieving and analysis of AWS data\n",
        "import pandas as pd\n",
        "import numpy as np\n",
        "import boto3\n",
        "import json\n",
        "from sklearn.cluster import KMeans\n",
        "\n",
        "# import visualization libraries, and do some configuration for jupyter notebook\n",
        "import seaborn as sns\n",
        "import matplotlib\n",
        "import matplotlib.pyplot as plt\n",
        "%matplotlib inline\n",
        "from IPython.core.display import display, HTML\n",
        "display(HTML(\"<style>.container { width:100% !important; }</style>\"))"
      ],
      "execution_count": 1,
      "outputs": [
        {
          "output_type": "stream",
          "text": [
            "/usr/local/lib/python3.6/dist-packages/statsmodels/tools/_testing.py:19: FutureWarning: pandas.util.testing is deprecated. Use the functions in the public API at pandas.testing instead.\n",
            "  import pandas.util.testing as tm\n"
          ],
          "name": "stderr"
        },
        {
          "output_type": "display_data",
          "data": {
            "text/html": [
              "<style>.container { width:100% !important; }</style>"
            ],
            "text/plain": [
              "<IPython.core.display.HTML object>"
            ]
          },
          "metadata": {
            "tags": []
          }
        }
      ]
    },
    {
      "cell_type": "code",
      "metadata": {
        "id": "D7c6UqJI8j72",
        "colab_type": "code",
        "colab": {
          "base_uri": "https://localhost:8080/",
          "height": 51
        },
        "outputId": "c6fadc8b-ca60-41b1-be36-46dd19209841"
      },
      "source": [
        "# 1 - get the complete list of all AWS services for all regions\n",
        "# https://aws.amazon.com/blogs/aws/new-aws-price-list-api/\n",
        "\n",
        "# import current master AWS index for all services\n",
        "import requests\n",
        "offers = requests.get('https://pricing.us-east-1.amazonaws.com/offers/v1.0/aws/index.json')\n",
        "print(\"master AWS index downloaded\", \"\\n\")"
      ],
      "execution_count": 2,
      "outputs": [
        {
          "output_type": "stream",
          "text": [
            "master AWS index downloaded \n",
            "\n"
          ],
          "name": "stdout"
        }
      ]
    },
    {
      "cell_type": "code",
      "metadata": {
        "id": "Suuf2zio9RA4",
        "colab_type": "code",
        "colab": {
          "base_uri": "https://localhost:8080/",
          "height": 37
        },
        "outputId": "6a7afb35-7885-4645-de1a-f41298fb8840"
      },
      "source": [
        "offers.json()['offers']['AmazonEC2']['currentVersionUrl']"
      ],
      "execution_count": 12,
      "outputs": [
        {
          "output_type": "execute_result",
          "data": {
            "application/vnd.google.colaboratory.intrinsic": {
              "type": "string"
            },
            "text/plain": [
              "'/offers/v1.0/aws/AmazonEC2/current/index.json'"
            ]
          },
          "metadata": {
            "tags": []
          },
          "execution_count": 12
        }
      ]
    },
    {
      "cell_type": "code",
      "metadata": {
        "id": "QJsiaAZ_8p_Y",
        "colab_type": "code",
        "colab": {
          "base_uri": "https://localhost:8080/",
          "height": 119
        },
        "outputId": "4117e81d-be19-459a-d16e-3d874e31532b"
      },
      "source": [
        "# 2- Use that AWS index to get the current offers list for EC2 as of today\n",
        "# hard coded EC2 prices:  offers = requests.get('https://pricing.us-east-1.amazonaws.com/offers/v1.0/aws/AmazonEC2/current/index.json')\n",
        "\n",
        "# get the current URL `suffix` for EC2 pricing from the AWS master index\n",
        "ec2_offer_path = offers.json()['offers']['AmazonEC2']['currentVersionUrl']\n",
        "print(\"EC2 offer path deciphered\", \"\\n\")\n",
        "\n",
        "# construct the complete URL for current EC2 pricing, and retrieve the json file\n",
        "ec2pricingURL = 'https://pricing.us-east-1.amazonaws.com%s' % ec2_offer_path\n",
        "print(ec2pricingURL, \"\\n\")\n",
        "\n",
        "ec2offers = requests.get('https://pricing.us-east-1.amazonaws.com%s' % ec2_offer_path).json()\n",
        "print(\"current EC2 offers downloaded\", \"\\n\")"
      ],
      "execution_count": 3,
      "outputs": [
        {
          "output_type": "stream",
          "text": [
            "EC2 offer path deciphered \n",
            "\n",
            "https://pricing.us-east-1.amazonaws.com/offers/v1.0/aws/AmazonEC2/current/index.json \n",
            "\n",
            "current EC2 offers downloaded \n",
            "\n"
          ],
          "name": "stdout"
        }
      ]
    },
    {
      "cell_type": "code",
      "metadata": {
        "id": "A_wsiW6L8syf",
        "colab_type": "code",
        "colab": {
          "base_uri": "https://localhost:8080/",
          "height": 34
        },
        "outputId": "9bba6713-18ae-4199-9c86-e110fd323020"
      },
      "source": [
        "ec2offers.keys()"
      ],
      "execution_count": 16,
      "outputs": [
        {
          "output_type": "execute_result",
          "data": {
            "text/plain": [
              "dict_keys(['formatVersion', 'disclaimer', 'offerCode', 'version', 'publicationDate', 'products', 'terms'])"
            ]
          },
          "metadata": {
            "tags": []
          },
          "execution_count": 16
        }
      ]
    },
    {
      "cell_type": "code",
      "metadata": {
        "id": "YHrD2aVS-R_v",
        "colab_type": "code",
        "colab": {
          "base_uri": "https://localhost:8080/",
          "height": 51
        },
        "outputId": "ea7ab351-79c9-4069-b0c8-329c6b6cc431"
      },
      "source": [
        "# 3 - Dynamically, get the actual price list we want\n",
        "# Pricing information can be accessed by URLs, each structured as follows:\n",
        "# https://pricing.us-east-1.amazonaws.com/offers/v1.0/aws/{offer_code}/current/index.{format}\n",
        "import requests\n",
        "\n",
        "#we want the csv, so we have to trim the `index.json` filename off the pricing url\n",
        "url_base=ec2pricingURL[:-10]\n",
        "\n",
        "print(url_base)\n",
        "\n",
        "pricing_csv_url = url_base + 'index.csv'\n",
        "\n",
        "print(pricing_csv_url)\n",
        "\n",
        "# write content to csv.  This will fail if you have a prior version of the file open in an editor or spreadsheet\n",
        "r = requests.get(pricing_csv_url, stream=True)"
      ],
      "execution_count": 18,
      "outputs": [
        {
          "output_type": "stream",
          "text": [
            "https://pricing.us-east-1.amazonaws.com/offers/v1.0/aws/AmazonEC2/current/\n",
            "https://pricing.us-east-1.amazonaws.com/offers/v1.0/aws/AmazonEC2/current/index.csv\n"
          ],
          "name": "stdout"
        }
      ]
    },
    {
      "cell_type": "code",
      "metadata": {
        "id": "uvAIm0T1-3AZ",
        "colab_type": "code",
        "colab": {
          "base_uri": "https://localhost:8080/",
          "height": 51
        },
        "outputId": "84400839-09e6-47a6-a0d2-c884bb3e064b"
      },
      "source": [
        "with open('ec2-prices.csv', 'wb') as f:\n",
        "    for chunk in r.iter_content(chunk_size=1024): \n",
        "        if chunk: # filter out keep-alive new chunks\n",
        "            f.write(chunk)\n",
        "\n",
        "print(\"ec2_prices.csv saved to disk.\",\"\\n\")"
      ],
      "execution_count": 24,
      "outputs": [
        {
          "output_type": "stream",
          "text": [
            "ec2_prices.csv saved to disk. \n",
            "\n"
          ],
          "name": "stdout"
        }
      ]
    },
    {
      "cell_type": "code",
      "metadata": {
        "id": "M-f6m7pSAS4V",
        "colab_type": "code",
        "colab": {}
      },
      "source": [
        "# construct set of unique EC2 Instance Types, and do a little cleanup\n",
        "# count = 0\n",
        "# uniq = set()\n",
        "# for sku, data in ec2offers['products'].items():\n",
        "#    try:\n",
        "#        count += 1\n",
        "#        # print(count, sku, data['productFamily'])\n",
        "#        if data['productFamily'] == 'Compute Instance':\n",
        "#            # Add EC2 Instance to the set\n",
        "#            uniq.add(data['attributes']['instanceType'])\n",
        "#          \n",
        "#        elif data['productFamily'] == 'Compute':\n",
        "#            # Add AWS misspelled instanceType for EC2 Instance to the set\n",
        "#            uniq.add(data['attributes']['instanceType'])\n",
        "#        \n",
        "#        else:\n",
        "#            # skip anything that's not an EC2 Instance  \n",
        "#            continue\n",
        "#    except KeyError:\n",
        "#        # some AWS JSON entries don't have all their keys\n",
        "#        pass\n",
        "#        \n",
        "#for instancetype in sorted(uniq):\n",
        "#    print(instancetype)"
      ],
      "execution_count": null,
      "outputs": []
    },
    {
      "cell_type": "code",
      "metadata": {
        "id": "u_jcZpuAAUTZ",
        "colab_type": "code",
        "colab": {
          "base_uri": "https://localhost:8080/",
          "height": 610
        },
        "outputId": "45ecd017-5dd5-448b-aca4-49dfae9bd420"
      },
      "source": [
        "# read the saved data into pandas\n",
        "# Be sure to skip the first 5 rows of information above row 5 which has the column headers; and get rid of NaN which causes mixed type errors\n",
        "\n",
        "pricing_df = pd.read_csv(\"ec2-prices.csv\", skiprows = 5, low_memory=False)\n",
        "pricing_df.set_index(['SKU', 'Location','Instance Type'])\n",
        "\n",
        "print(\"number of rows in this dataframe: \", len(pricing_df), \"\\n\")\n",
        "pricing_df.head()"
      ],
      "execution_count": 63,
      "outputs": [
        {
          "output_type": "stream",
          "text": [
            "number of rows in this dataframe:  1603820 \n",
            "\n"
          ],
          "name": "stdout"
        },
        {
          "output_type": "execute_result",
          "data": {
            "text/html": [
              "<div>\n",
              "<style scoped>\n",
              "    .dataframe tbody tr th:only-of-type {\n",
              "        vertical-align: middle;\n",
              "    }\n",
              "\n",
              "    .dataframe tbody tr th {\n",
              "        vertical-align: top;\n",
              "    }\n",
              "\n",
              "    .dataframe thead th {\n",
              "        text-align: right;\n",
              "    }\n",
              "</style>\n",
              "<table border=\"1\" class=\"dataframe\">\n",
              "  <thead>\n",
              "    <tr style=\"text-align: right;\">\n",
              "      <th></th>\n",
              "      <th>SKU</th>\n",
              "      <th>OfferTermCode</th>\n",
              "      <th>RateCode</th>\n",
              "      <th>TermType</th>\n",
              "      <th>PriceDescription</th>\n",
              "      <th>EffectiveDate</th>\n",
              "      <th>StartingRange</th>\n",
              "      <th>EndingRange</th>\n",
              "      <th>Unit</th>\n",
              "      <th>PricePerUnit</th>\n",
              "      <th>Currency</th>\n",
              "      <th>LeaseContractLength</th>\n",
              "      <th>PurchaseOption</th>\n",
              "      <th>OfferingClass</th>\n",
              "      <th>Product Family</th>\n",
              "      <th>serviceCode</th>\n",
              "      <th>Location</th>\n",
              "      <th>Location Type</th>\n",
              "      <th>Instance Type</th>\n",
              "      <th>Current Generation</th>\n",
              "      <th>Instance Family</th>\n",
              "      <th>vCPU</th>\n",
              "      <th>Physical Processor</th>\n",
              "      <th>Clock Speed</th>\n",
              "      <th>Memory</th>\n",
              "      <th>Storage</th>\n",
              "      <th>Network Performance</th>\n",
              "      <th>Processor Architecture</th>\n",
              "      <th>Storage Media</th>\n",
              "      <th>Volume Type</th>\n",
              "      <th>Max Volume Size</th>\n",
              "      <th>Max IOPS/volume</th>\n",
              "      <th>Max IOPS Burst Performance</th>\n",
              "      <th>Max throughput/volume</th>\n",
              "      <th>Provisioned</th>\n",
              "      <th>Tenancy</th>\n",
              "      <th>EBS Optimized</th>\n",
              "      <th>Operating System</th>\n",
              "      <th>License Model</th>\n",
              "      <th>Group</th>\n",
              "      <th>...</th>\n",
              "      <th>From Location</th>\n",
              "      <th>From Location Type</th>\n",
              "      <th>To Location</th>\n",
              "      <th>To Location Type</th>\n",
              "      <th>usageType</th>\n",
              "      <th>operation</th>\n",
              "      <th>CapacityStatus</th>\n",
              "      <th>Dedicated EBS Throughput</th>\n",
              "      <th>ECU</th>\n",
              "      <th>Elastic Graphics Type</th>\n",
              "      <th>Enhanced Networking Supported</th>\n",
              "      <th>GPU</th>\n",
              "      <th>GPU Memory</th>\n",
              "      <th>Instance</th>\n",
              "      <th>Instance Capacity - 10xlarge</th>\n",
              "      <th>Instance Capacity - 12xlarge</th>\n",
              "      <th>Instance Capacity - 16xlarge</th>\n",
              "      <th>Instance Capacity - 18xlarge</th>\n",
              "      <th>Instance Capacity - 24xlarge</th>\n",
              "      <th>Instance Capacity - 2xlarge</th>\n",
              "      <th>Instance Capacity - 32xlarge</th>\n",
              "      <th>Instance Capacity - 4xlarge</th>\n",
              "      <th>Instance Capacity - 8xlarge</th>\n",
              "      <th>Instance Capacity - 9xlarge</th>\n",
              "      <th>Instance Capacity - large</th>\n",
              "      <th>Instance Capacity - medium</th>\n",
              "      <th>Instance Capacity - metal</th>\n",
              "      <th>Instance Capacity - xlarge</th>\n",
              "      <th>instanceSKU</th>\n",
              "      <th>Intel AVX Available</th>\n",
              "      <th>Intel AVX2 Available</th>\n",
              "      <th>Intel Turbo Available</th>\n",
              "      <th>Normalization Size Factor</th>\n",
              "      <th>Physical Cores</th>\n",
              "      <th>Pre Installed S/W</th>\n",
              "      <th>Processor Features</th>\n",
              "      <th>Product Type</th>\n",
              "      <th>Resource Type</th>\n",
              "      <th>serviceName</th>\n",
              "      <th>Volume API Name</th>\n",
              "    </tr>\n",
              "  </thead>\n",
              "  <tbody>\n",
              "    <tr>\n",
              "      <th>0</th>\n",
              "      <td>YQHNG5NBWUE3D67S</td>\n",
              "      <td>4NA7Y494T4</td>\n",
              "      <td>YQHNG5NBWUE3D67S.4NA7Y494T4.6YS6EN2CT7</td>\n",
              "      <td>Reserved</td>\n",
              "      <td>Red Hat Enterprise Linux (Amazon VPC), m4.xlar...</td>\n",
              "      <td>2017-04-30</td>\n",
              "      <td>0.0</td>\n",
              "      <td>inf</td>\n",
              "      <td>Hrs</td>\n",
              "      <td>0.1963</td>\n",
              "      <td>USD</td>\n",
              "      <td>1yr</td>\n",
              "      <td>No Upfront</td>\n",
              "      <td>standard</td>\n",
              "      <td>Compute Instance</td>\n",
              "      <td>AmazonEC2</td>\n",
              "      <td>US East (Ohio)</td>\n",
              "      <td>AWS Region</td>\n",
              "      <td>m4.xlarge</td>\n",
              "      <td>Yes</td>\n",
              "      <td>General purpose</td>\n",
              "      <td>4.0</td>\n",
              "      <td>Intel Xeon E5-2676 v3 (Haswell)</td>\n",
              "      <td>2.4 GHz</td>\n",
              "      <td>16 GiB</td>\n",
              "      <td>EBS only</td>\n",
              "      <td>High</td>\n",
              "      <td>64-bit</td>\n",
              "      <td>NaN</td>\n",
              "      <td>NaN</td>\n",
              "      <td>NaN</td>\n",
              "      <td>NaN</td>\n",
              "      <td>NaN</td>\n",
              "      <td>NaN</td>\n",
              "      <td>NaN</td>\n",
              "      <td>Dedicated</td>\n",
              "      <td>NaN</td>\n",
              "      <td>RHEL</td>\n",
              "      <td>No License required</td>\n",
              "      <td>NaN</td>\n",
              "      <td>...</td>\n",
              "      <td>NaN</td>\n",
              "      <td>NaN</td>\n",
              "      <td>NaN</td>\n",
              "      <td>NaN</td>\n",
              "      <td>USE2-DedicatedUsage:m4.xlarge</td>\n",
              "      <td>RunInstances:0010</td>\n",
              "      <td>Used</td>\n",
              "      <td>750 Mbps</td>\n",
              "      <td>13</td>\n",
              "      <td>NaN</td>\n",
              "      <td>Yes</td>\n",
              "      <td>NaN</td>\n",
              "      <td>NaN</td>\n",
              "      <td>NaN</td>\n",
              "      <td>NaN</td>\n",
              "      <td>NaN</td>\n",
              "      <td>NaN</td>\n",
              "      <td>NaN</td>\n",
              "      <td>NaN</td>\n",
              "      <td>NaN</td>\n",
              "      <td>NaN</td>\n",
              "      <td>NaN</td>\n",
              "      <td>NaN</td>\n",
              "      <td>NaN</td>\n",
              "      <td>NaN</td>\n",
              "      <td>NaN</td>\n",
              "      <td>NaN</td>\n",
              "      <td>NaN</td>\n",
              "      <td>NaN</td>\n",
              "      <td>Yes</td>\n",
              "      <td>Yes</td>\n",
              "      <td>Yes</td>\n",
              "      <td>8.0</td>\n",
              "      <td>NaN</td>\n",
              "      <td>NaN</td>\n",
              "      <td>Intel AVX; Intel AVX2; Intel Turbo</td>\n",
              "      <td>NaN</td>\n",
              "      <td>NaN</td>\n",
              "      <td>Amazon Elastic Compute Cloud</td>\n",
              "      <td>NaN</td>\n",
              "    </tr>\n",
              "    <tr>\n",
              "      <th>1</th>\n",
              "      <td>FS9HBBMCNT422SDM</td>\n",
              "      <td>38NPMPTW36</td>\n",
              "      <td>FS9HBBMCNT422SDM.38NPMPTW36.6YS6EN2CT7</td>\n",
              "      <td>Reserved</td>\n",
              "      <td>Windows with SQL Server Enterprise (Amazon VPC...</td>\n",
              "      <td>2020-04-01</td>\n",
              "      <td>0.0</td>\n",
              "      <td>inf</td>\n",
              "      <td>Hrs</td>\n",
              "      <td>22.0310</td>\n",
              "      <td>USD</td>\n",
              "      <td>3yr</td>\n",
              "      <td>Partial Upfront</td>\n",
              "      <td>standard</td>\n",
              "      <td>Compute Instance (bare metal)</td>\n",
              "      <td>AmazonEC2</td>\n",
              "      <td>AWS GovCloud (US-West)</td>\n",
              "      <td>AWS Region</td>\n",
              "      <td>r5dn.metal</td>\n",
              "      <td>Yes</td>\n",
              "      <td>Memory optimized</td>\n",
              "      <td>96.0</td>\n",
              "      <td>Intel Xeon Platinum 8259 (Cascade Lake)</td>\n",
              "      <td>3.1 GHz</td>\n",
              "      <td>768 GiB</td>\n",
              "      <td>4 x 900 NVMe SSD</td>\n",
              "      <td>100 Gigabit</td>\n",
              "      <td>64-bit</td>\n",
              "      <td>NaN</td>\n",
              "      <td>NaN</td>\n",
              "      <td>NaN</td>\n",
              "      <td>NaN</td>\n",
              "      <td>NaN</td>\n",
              "      <td>NaN</td>\n",
              "      <td>NaN</td>\n",
              "      <td>Dedicated</td>\n",
              "      <td>NaN</td>\n",
              "      <td>Windows</td>\n",
              "      <td>No License required</td>\n",
              "      <td>NaN</td>\n",
              "      <td>...</td>\n",
              "      <td>NaN</td>\n",
              "      <td>NaN</td>\n",
              "      <td>NaN</td>\n",
              "      <td>NaN</td>\n",
              "      <td>UGW1-DedicatedUsage:r5dn.metal</td>\n",
              "      <td>RunInstances:0102</td>\n",
              "      <td>Used</td>\n",
              "      <td>12000 Mbps</td>\n",
              "      <td>NaN</td>\n",
              "      <td>NaN</td>\n",
              "      <td>No</td>\n",
              "      <td>NaN</td>\n",
              "      <td>NaN</td>\n",
              "      <td>NaN</td>\n",
              "      <td>NaN</td>\n",
              "      <td>NaN</td>\n",
              "      <td>NaN</td>\n",
              "      <td>NaN</td>\n",
              "      <td>NaN</td>\n",
              "      <td>NaN</td>\n",
              "      <td>NaN</td>\n",
              "      <td>NaN</td>\n",
              "      <td>NaN</td>\n",
              "      <td>NaN</td>\n",
              "      <td>NaN</td>\n",
              "      <td>NaN</td>\n",
              "      <td>NaN</td>\n",
              "      <td>NaN</td>\n",
              "      <td>NaN</td>\n",
              "      <td>No</td>\n",
              "      <td>No</td>\n",
              "      <td>No</td>\n",
              "      <td>192.0</td>\n",
              "      <td>NaN</td>\n",
              "      <td>SQL Ent</td>\n",
              "      <td>NaN</td>\n",
              "      <td>NaN</td>\n",
              "      <td>NaN</td>\n",
              "      <td>Amazon Elastic Compute Cloud</td>\n",
              "      <td>NaN</td>\n",
              "    </tr>\n",
              "    <tr>\n",
              "      <th>2</th>\n",
              "      <td>AF4M9XS62QDH5P8S</td>\n",
              "      <td>BPH4J8HBKS</td>\n",
              "      <td>AF4M9XS62QDH5P8S.BPH4J8HBKS.6YS6EN2CT7</td>\n",
              "      <td>Reserved</td>\n",
              "      <td>Linux/UNIX (Amazon VPC), i3.xlarge reserved in...</td>\n",
              "      <td>2017-04-30</td>\n",
              "      <td>0.0</td>\n",
              "      <td>inf</td>\n",
              "      <td>Hrs</td>\n",
              "      <td>0.1950</td>\n",
              "      <td>USD</td>\n",
              "      <td>3yr</td>\n",
              "      <td>No Upfront</td>\n",
              "      <td>standard</td>\n",
              "      <td>Compute Instance</td>\n",
              "      <td>AmazonEC2</td>\n",
              "      <td>Asia Pacific (Tokyo)</td>\n",
              "      <td>AWS Region</td>\n",
              "      <td>i3.xlarge</td>\n",
              "      <td>Yes</td>\n",
              "      <td>Storage optimized</td>\n",
              "      <td>4.0</td>\n",
              "      <td>Intel Xeon E5-2686 v4 (Broadwell)</td>\n",
              "      <td>2.3 GHz</td>\n",
              "      <td>30.5 GiB</td>\n",
              "      <td>1 x 950 NVMe SSD</td>\n",
              "      <td>Up to 10 Gigabit</td>\n",
              "      <td>64-bit</td>\n",
              "      <td>NaN</td>\n",
              "      <td>NaN</td>\n",
              "      <td>NaN</td>\n",
              "      <td>NaN</td>\n",
              "      <td>NaN</td>\n",
              "      <td>NaN</td>\n",
              "      <td>NaN</td>\n",
              "      <td>Dedicated</td>\n",
              "      <td>NaN</td>\n",
              "      <td>Linux</td>\n",
              "      <td>No License required</td>\n",
              "      <td>NaN</td>\n",
              "      <td>...</td>\n",
              "      <td>NaN</td>\n",
              "      <td>NaN</td>\n",
              "      <td>NaN</td>\n",
              "      <td>NaN</td>\n",
              "      <td>APN1-DedicatedUsage:i3.xlarge</td>\n",
              "      <td>RunInstances</td>\n",
              "      <td>Used</td>\n",
              "      <td>850 Mbps</td>\n",
              "      <td>16</td>\n",
              "      <td>NaN</td>\n",
              "      <td>Yes</td>\n",
              "      <td>NaN</td>\n",
              "      <td>NaN</td>\n",
              "      <td>NaN</td>\n",
              "      <td>NaN</td>\n",
              "      <td>NaN</td>\n",
              "      <td>NaN</td>\n",
              "      <td>NaN</td>\n",
              "      <td>NaN</td>\n",
              "      <td>NaN</td>\n",
              "      <td>NaN</td>\n",
              "      <td>NaN</td>\n",
              "      <td>NaN</td>\n",
              "      <td>NaN</td>\n",
              "      <td>NaN</td>\n",
              "      <td>NaN</td>\n",
              "      <td>NaN</td>\n",
              "      <td>NaN</td>\n",
              "      <td>NaN</td>\n",
              "      <td>Yes</td>\n",
              "      <td>Yes</td>\n",
              "      <td>Yes</td>\n",
              "      <td>8.0</td>\n",
              "      <td>NaN</td>\n",
              "      <td>NaN</td>\n",
              "      <td>Intel AVX; Intel AVX2; Intel Turbo</td>\n",
              "      <td>NaN</td>\n",
              "      <td>NaN</td>\n",
              "      <td>Amazon Elastic Compute Cloud</td>\n",
              "      <td>NaN</td>\n",
              "    </tr>\n",
              "    <tr>\n",
              "      <th>3</th>\n",
              "      <td>TDQJ4JGM4HQ9852M</td>\n",
              "      <td>R5XV2EPZQZ</td>\n",
              "      <td>TDQJ4JGM4HQ9852M.R5XV2EPZQZ.2TG2D8R56U</td>\n",
              "      <td>Reserved</td>\n",
              "      <td>Upfront Fee</td>\n",
              "      <td>2018-03-31</td>\n",
              "      <td>NaN</td>\n",
              "      <td>NaN</td>\n",
              "      <td>Quantity</td>\n",
              "      <td>6972.0000</td>\n",
              "      <td>USD</td>\n",
              "      <td>3yr</td>\n",
              "      <td>Partial Upfront</td>\n",
              "      <td>convertible</td>\n",
              "      <td>Compute Instance</td>\n",
              "      <td>AmazonEC2</td>\n",
              "      <td>US East (N. Virginia)</td>\n",
              "      <td>AWS Region</td>\n",
              "      <td>m4.large</td>\n",
              "      <td>Yes</td>\n",
              "      <td>General purpose</td>\n",
              "      <td>2.0</td>\n",
              "      <td>Intel Xeon E5-2676 v3 (Haswell)</td>\n",
              "      <td>2.4 GHz</td>\n",
              "      <td>8 GiB</td>\n",
              "      <td>EBS only</td>\n",
              "      <td>Moderate</td>\n",
              "      <td>64-bit</td>\n",
              "      <td>NaN</td>\n",
              "      <td>NaN</td>\n",
              "      <td>NaN</td>\n",
              "      <td>NaN</td>\n",
              "      <td>NaN</td>\n",
              "      <td>NaN</td>\n",
              "      <td>NaN</td>\n",
              "      <td>Dedicated</td>\n",
              "      <td>NaN</td>\n",
              "      <td>Linux</td>\n",
              "      <td>No License required</td>\n",
              "      <td>NaN</td>\n",
              "      <td>...</td>\n",
              "      <td>NaN</td>\n",
              "      <td>NaN</td>\n",
              "      <td>NaN</td>\n",
              "      <td>NaN</td>\n",
              "      <td>DedicatedUsage:m4.large</td>\n",
              "      <td>RunInstances:0004</td>\n",
              "      <td>Used</td>\n",
              "      <td>450 Mbps</td>\n",
              "      <td>6.5</td>\n",
              "      <td>NaN</td>\n",
              "      <td>Yes</td>\n",
              "      <td>NaN</td>\n",
              "      <td>NaN</td>\n",
              "      <td>NaN</td>\n",
              "      <td>NaN</td>\n",
              "      <td>NaN</td>\n",
              "      <td>NaN</td>\n",
              "      <td>NaN</td>\n",
              "      <td>NaN</td>\n",
              "      <td>NaN</td>\n",
              "      <td>NaN</td>\n",
              "      <td>NaN</td>\n",
              "      <td>NaN</td>\n",
              "      <td>NaN</td>\n",
              "      <td>NaN</td>\n",
              "      <td>NaN</td>\n",
              "      <td>NaN</td>\n",
              "      <td>NaN</td>\n",
              "      <td>NaN</td>\n",
              "      <td>Yes</td>\n",
              "      <td>Yes</td>\n",
              "      <td>Yes</td>\n",
              "      <td>4.0</td>\n",
              "      <td>NaN</td>\n",
              "      <td>SQL Std</td>\n",
              "      <td>Intel AVX; Intel AVX2; Intel Turbo</td>\n",
              "      <td>NaN</td>\n",
              "      <td>NaN</td>\n",
              "      <td>Amazon Elastic Compute Cloud</td>\n",
              "      <td>NaN</td>\n",
              "    </tr>\n",
              "    <tr>\n",
              "      <th>4</th>\n",
              "      <td>BPGKEYR7SFMWM4UW</td>\n",
              "      <td>NQ3QZPMQV9</td>\n",
              "      <td>BPGKEYR7SFMWM4UW.NQ3QZPMQV9.2TG2D8R56U</td>\n",
              "      <td>Reserved</td>\n",
              "      <td>Upfront Fee</td>\n",
              "      <td>2020-04-01</td>\n",
              "      <td>NaN</td>\n",
              "      <td>NaN</td>\n",
              "      <td>Quantity</td>\n",
              "      <td>168565.0000</td>\n",
              "      <td>USD</td>\n",
              "      <td>3yr</td>\n",
              "      <td>All Upfront</td>\n",
              "      <td>standard</td>\n",
              "      <td>Compute Instance</td>\n",
              "      <td>AmazonEC2</td>\n",
              "      <td>EU (Frankfurt)</td>\n",
              "      <td>AWS Region</td>\n",
              "      <td>r5ad.8xlarge</td>\n",
              "      <td>Yes</td>\n",
              "      <td>Memory optimized</td>\n",
              "      <td>32.0</td>\n",
              "      <td>AMD EPYC 7571</td>\n",
              "      <td>2.5 GHz</td>\n",
              "      <td>256 GiB</td>\n",
              "      <td>2 x 600 NVMe SSD</td>\n",
              "      <td>Up to 10 Gigabit</td>\n",
              "      <td>64-bit</td>\n",
              "      <td>NaN</td>\n",
              "      <td>NaN</td>\n",
              "      <td>NaN</td>\n",
              "      <td>NaN</td>\n",
              "      <td>NaN</td>\n",
              "      <td>NaN</td>\n",
              "      <td>NaN</td>\n",
              "      <td>Dedicated</td>\n",
              "      <td>NaN</td>\n",
              "      <td>Windows</td>\n",
              "      <td>No License required</td>\n",
              "      <td>NaN</td>\n",
              "      <td>...</td>\n",
              "      <td>NaN</td>\n",
              "      <td>NaN</td>\n",
              "      <td>NaN</td>\n",
              "      <td>NaN</td>\n",
              "      <td>EUC1-DedicatedUsage:r5ad.8xlarge</td>\n",
              "      <td>RunInstances:0006</td>\n",
              "      <td>Used</td>\n",
              "      <td>3500 Mbps</td>\n",
              "      <td>NaN</td>\n",
              "      <td>NaN</td>\n",
              "      <td>Yes</td>\n",
              "      <td>NaN</td>\n",
              "      <td>NaN</td>\n",
              "      <td>NaN</td>\n",
              "      <td>NaN</td>\n",
              "      <td>NaN</td>\n",
              "      <td>NaN</td>\n",
              "      <td>NaN</td>\n",
              "      <td>NaN</td>\n",
              "      <td>NaN</td>\n",
              "      <td>NaN</td>\n",
              "      <td>NaN</td>\n",
              "      <td>NaN</td>\n",
              "      <td>NaN</td>\n",
              "      <td>NaN</td>\n",
              "      <td>NaN</td>\n",
              "      <td>NaN</td>\n",
              "      <td>NaN</td>\n",
              "      <td>NaN</td>\n",
              "      <td>No</td>\n",
              "      <td>No</td>\n",
              "      <td>No</td>\n",
              "      <td>64.0</td>\n",
              "      <td>NaN</td>\n",
              "      <td>SQL Std</td>\n",
              "      <td>AVX; AVX2; AMD Turbo</td>\n",
              "      <td>NaN</td>\n",
              "      <td>NaN</td>\n",
              "      <td>Amazon Elastic Compute Cloud</td>\n",
              "      <td>NaN</td>\n",
              "    </tr>\n",
              "  </tbody>\n",
              "</table>\n",
              "<p>5 rows × 82 columns</p>\n",
              "</div>"
            ],
            "text/plain": [
              "                SKU OfferTermCode  ...                   serviceName Volume API Name\n",
              "0  YQHNG5NBWUE3D67S    4NA7Y494T4  ...  Amazon Elastic Compute Cloud             NaN\n",
              "1  FS9HBBMCNT422SDM    38NPMPTW36  ...  Amazon Elastic Compute Cloud             NaN\n",
              "2  AF4M9XS62QDH5P8S    BPH4J8HBKS  ...  Amazon Elastic Compute Cloud             NaN\n",
              "3  TDQJ4JGM4HQ9852M    R5XV2EPZQZ  ...  Amazon Elastic Compute Cloud             NaN\n",
              "4  BPGKEYR7SFMWM4UW    NQ3QZPMQV9  ...  Amazon Elastic Compute Cloud             NaN\n",
              "\n",
              "[5 rows x 82 columns]"
            ]
          },
          "metadata": {
            "tags": []
          },
          "execution_count": 63
        }
      ]
    },
    {
      "cell_type": "code",
      "metadata": {
        "id": "hnAocggKE2JS",
        "colab_type": "code",
        "colab": {
          "base_uri": "https://localhost:8080/",
          "height": 51
        },
        "outputId": "47befecb-fcf9-4f6b-f7e2-5bd7df416392"
      },
      "source": [
        "print(\"number of rows before nan cleanup: \", len(pricing_df), \"\\n\")"
      ],
      "execution_count": 64,
      "outputs": [
        {
          "output_type": "stream",
          "text": [
            "number of rows before nan cleanup:  1603820 \n",
            "\n"
          ],
          "name": "stdout"
        }
      ]
    },
    {
      "cell_type": "code",
      "metadata": {
        "id": "LjdcGzywAfZf",
        "colab_type": "code",
        "colab": {
          "base_uri": "https://localhost:8080/",
          "height": 51
        },
        "outputId": "b72dd99f-2972-4589-98a5-00501b7d4cc0"
      },
      "source": [
        "# Let's get rid of Null instance types, things that are not 'hourly' pricing, and things outside our region of interest\n",
        "# AWS will reject request if this asks for too much, so to get other regions we would need to iterate over values\n",
        "pricing_df = pricing_df[(pricing_df[\"Instance Type\"].notnull()) & (pricing_df[\"Unit\"] == \"Hrs\") & (pricing_df[\"Location\"] == \"US East (N. Virginia)\")& (pricing_df[\"ECU\"] != \"Variable\")]\n",
        "print(\"number of rows after nan cleanup: \", len(pricing_df), \"\\n\")"
      ],
      "execution_count": 65,
      "outputs": [
        {
          "output_type": "stream",
          "text": [
            "number of rows after nan cleanup:  65810 \n",
            "\n"
          ],
          "name": "stdout"
        }
      ]
    },
    {
      "cell_type": "code",
      "metadata": {
        "id": "oaali3pXEmm8",
        "colab_type": "code",
        "colab": {
          "base_uri": "https://localhost:8080/",
          "height": 221
        },
        "outputId": "65d8b0eb-8e2f-4569-ce75-1a83aca2f8e7"
      },
      "source": [
        "pricing_df['Instance Type']"
      ],
      "execution_count": 61,
      "outputs": [
        {
          "output_type": "execute_result",
          "data": {
            "text/plain": [
              "7           m5ad.2xlarge\n",
              "26         r5ad.12xlarge\n",
              "40          inf1.6xlarge\n",
              "50             r3.xlarge\n",
              "60            g2.2xlarge\n",
              "               ...      \n",
              "1603740     r5n.24xlarge\n",
              "1603777     r5n.16xlarge\n",
              "1603778        m3.medium\n",
              "1603780      r6g.2xlarge\n",
              "1603817     m5d.24xlarge\n",
              "Name: Instance Type, Length: 65810, dtype: object"
            ]
          },
          "metadata": {
            "tags": []
          },
          "execution_count": 61
        }
      ]
    },
    {
      "cell_type": "code",
      "metadata": {
        "id": "_b2M-VqqAXTH",
        "colab_type": "code",
        "colab": {}
      },
      "source": [
        "# memory currently stored as a string\n",
        "# create new derivative column, to story memory amounts without units, also take out commmas\n",
        "pricing_df[\"Memory_GiB\"] = pricing_df[\"Memory\"]\n",
        "pricing_df[\"Memory_GiB\"].replace(regex=True,inplace=True,to_replace=r' GiB',value=r'')\n",
        "pricing_df[\"Memory_GiB\"].replace(regex=True,inplace=True,to_replace=r',',value=r'')\n",
        "pricing_df[\"Memory_GiB\"].replace(regex=True,inplace=True,to_replace=r' ',value=r'')\n",
        "\n",
        "# now cast this new column to float so we can use it as a number going forward\n",
        "pricing_df['Memory_GiB'] = pricing_df['Memory_GiB'].astype(float)\n",
        "\n",
        "# ECU currently stored as a string since some values in csv originally contained the value 'variable'\n",
        "# now cast this new column to float so we can use it as a number going forward\n",
        "pricing_df['ECU'] = pricing_df['ECU'].astype(float)\n",
        "\n",
        "# clock speed currently stored as a string\n",
        "# create new derivative column, to story clock speeds without units, also take out commmas\n",
        "pricing_df[\"Clock Speed GHz\"] = pricing_df[\"Clock Speed\"]\n",
        "pricing_df[\"Clock Speed GHz\"].replace(regex=True,inplace=True,to_replace=r'Ghz',value=r'')\n",
        "pricing_df[\"Clock Speed GHz\"].replace(regex=True,inplace=True,to_replace=r' GHz',value=r'')\n",
        "pricing_df[\"Clock Speed GHz\"].replace(regex=True,inplace=True,to_replace=r'Up to ',value=r'')\n",
        "pricing_df[\"Clock Speed GHz\"].replace(regex=True,inplace=True,to_replace=r' ',value=r'')\n",
        "\n",
        "# now cast this new column to float so we can use it as a number going forward\n",
        "pricing_df['Clock Speed GHz'] = pricing_df['Clock Speed GHz'].astype(float)\n",
        "\n",
        "\n",
        "# let's capture the different ways of looking at pricing vs. compute capacity, and compare them.\n",
        "pricing_df[\"Price_vCPU\"] = pricing_df[\"PricePerUnit\"]/pricing_df[\"vCPU\"]\n",
        "pricing_df[\"Price_ECU\"] = pricing_df[\"PricePerUnit\"]/pricing_df[\"ECU\"]\n",
        "pricing_df[\"Price_vCPU_ECU_ratio\"] = round(pricing_df[\"Price_vCPU\"]/pricing_df[\"Price_ECU\"],1)"
      ],
      "execution_count": 72,
      "outputs": []
    },
    {
      "cell_type": "code",
      "metadata": {
        "id": "qsPx4-4lBkZr",
        "colab_type": "code",
        "colab": {}
      },
      "source": [
        "# put all the names of Instance types into a dictionary, so we can pass that to boto3 and retrieve spot pricing\n",
        "names = pricing_df[\"Instance Type\"].to_dict()"
      ],
      "execution_count": 73,
      "outputs": []
    },
    {
      "cell_type": "code",
      "metadata": {
        "id": "JTtLnPOgD732",
        "colab_type": "code",
        "colab": {
          "base_uri": "https://localhost:8080/",
          "height": 34
        },
        "outputId": "3591d4ab-7a98-41ef-ef08-c10488855545"
      },
      "source": [
        "# show a short sample of Instance Types, to check what we're working with\n",
        "list(names.values())[0:5]"
      ],
      "execution_count": 74,
      "outputs": [
        {
          "output_type": "execute_result",
          "data": {
            "text/plain": [
              "['m5ad.2xlarge', 'r5ad.12xlarge', 'inf1.6xlarge', 'r3.xlarge', 'g2.2xlarge']"
            ]
          },
          "metadata": {
            "tags": []
          },
          "execution_count": 74
        }
      ]
    },
    {
      "cell_type": "code",
      "metadata": {
        "id": "ykMktAJUGAKm",
        "colab_type": "code",
        "colab": {
          "base_uri": "https://localhost:8080/",
          "height": 34
        },
        "outputId": "8de16713-4d1f-4343-c1dd-e9c696ef0287"
      },
      "source": [
        "# and see how many values in the list\n",
        "len(list(names.values()))"
      ],
      "execution_count": 75,
      "outputs": [
        {
          "output_type": "execute_result",
          "data": {
            "text/plain": [
              "65810"
            ]
          },
          "metadata": {
            "tags": []
          },
          "execution_count": 75
        }
      ]
    },
    {
      "cell_type": "code",
      "metadata": {
        "id": "JYxPcsW2GUzy",
        "colab_type": "code",
        "colab": {
          "base_uri": "https://localhost:8080/",
          "height": 221
        },
        "outputId": "0165e885-84a7-47c0-b92a-416a35aa55b5"
      },
      "source": [
        "round(pricing_df[\"ECU\"]/pricing_df[\"vCPU\"],2)"
      ],
      "execution_count": 76,
      "outputs": [
        {
          "output_type": "execute_result",
          "data": {
            "text/plain": [
              "7           NaN\n",
              "26          NaN\n",
              "40          NaN\n",
              "50         3.25\n",
              "60         3.25\n",
              "           ... \n",
              "1603740     NaN\n",
              "1603777     NaN\n",
              "1603778    3.00\n",
              "1603780     NaN\n",
              "1603817    3.51\n",
              "Length: 65810, dtype: float64"
            ]
          },
          "metadata": {
            "tags": []
          },
          "execution_count": 76
        }
      ]
    },
    {
      "cell_type": "code",
      "metadata": {
        "id": "qov_wKoeGAhN",
        "colab_type": "code",
        "colab": {}
      },
      "source": [
        "#look at ratio of ECU to vCPU\n",
        "pricing_df[\"Num_ECU_vCPU_ratio\"] = round(pricing_df[\"ECU\"]/pricing_df[\"vCPU\"],2)\n",
        "\n",
        "sns.set_context('paper')\n",
        "plt.figure(figsize=(30, 15))\n",
        "sns.set_style({'xtick.major.size': 1})\n",
        "\n",
        "# group our dataframe so axis output is ordered nicely\n",
        "# adding this option to the sns.swarmplot is very slow: order=sorted(list(names))\n",
        "pricing_df = pricing_df.sort_values(['Instance Type', 'ECU'], ascending=[False, True])\n",
        "\n",
        "fig = sns.swarmplot(x=\"Num_ECU_vCPU_ratio\", y=\"Instance Type\", hue=\"vCPU\", data=pricing_df, dodge=True)\n",
        "sns.despine(left=False, bottom=True)\n",
        "plt.title(\"AWS Ratio of the # of ECU to # of vCPU for all Instance Types\")\n",
        "plt.xlabel(\"# of ECU to # of vCPU\")\n",
        "plt.ylabel(\"Instance Type\")\n",
        "\n",
        "plt.show(fig)"
      ],
      "execution_count": null,
      "outputs": []
    }
  ]
}